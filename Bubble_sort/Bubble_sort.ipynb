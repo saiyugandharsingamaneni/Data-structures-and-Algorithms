{
 "cells": [
  {
   "cell_type": "code",
   "execution_count": 4,
   "id": "6897112d",
   "metadata": {},
   "outputs": [
    {
     "name": "stdout",
     "output_type": "stream",
     "text": [
      "['aamir', 'chang', 'dhaval', 'mona', 'tina']\n"
     ]
    }
   ],
   "source": [
    "def bubble_sort(elements):\n",
    "    size = len(elements)\n",
    "\n",
    "    for i in range(size-1):\n",
    "        swapped = False\n",
    "        for j in range(size-1-i):\n",
    "            if elements[j] > elements[j+1]:\n",
    "                tmp = elements[j]\n",
    "                elements[j] = elements[j+1]\n",
    "                elements[j+1] = tmp\n",
    "                swapped = True\n",
    "\n",
    "        if not swapped:\n",
    "            break\n",
    "\n",
    "\n",
    "if __name__ == '__main__':\n",
    "    elements = [5,9,2,1,67,34,88,34]\n",
    "    elements = [1,2,3,4,2]\n",
    "    elements = [\"mona\", \"dhaval\", \"aamir\", \"tina\", \"chang\"]\n",
    "\n",
    "    bubble_sort(elements)\n",
    "    print(elements)"
   ]
  },
  {
   "cell_type": "code",
   "execution_count": null,
   "id": "5bc0d0c4",
   "metadata": {},
   "outputs": [],
   "source": []
  }
 ],
 "metadata": {
  "kernelspec": {
   "display_name": "Python 3 (ipykernel)",
   "language": "python",
   "name": "python3"
  },
  "language_info": {
   "codemirror_mode": {
    "name": "ipython",
    "version": 3
   },
   "file_extension": ".py",
   "mimetype": "text/x-python",
   "name": "python",
   "nbconvert_exporter": "python",
   "pygments_lexer": "ipython3",
   "version": "3.9.7"
  }
 },
 "nbformat": 4,
 "nbformat_minor": 5
}
