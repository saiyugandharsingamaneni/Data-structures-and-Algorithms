{
 "cells": [
  {
   "cell_type": "code",
   "execution_count": 1,
   "id": "876c0355",
   "metadata": {},
   "outputs": [],
   "source": [
    "import numpy as np\n",
    "import pandas as pd"
   ]
  },
  {
   "cell_type": "code",
   "execution_count": 2,
   "id": "1af95320",
   "metadata": {},
   "outputs": [],
   "source": [
    "df={'date':['january 1','january 2','january 3','january 4','january 5','january 6','january 7','january 8','january 9','january 10'],\n",
    "    'temperature':[23,21,24,29,17,19,12,30,23,26]\n",
    " }"
   ]
  },
  {
   "cell_type": "code",
   "execution_count": 3,
   "id": "f372047c",
   "metadata": {},
   "outputs": [
    {
     "data": {
      "text/plain": [
       "{'date': ['january 1',\n",
       "  'january 2',\n",
       "  'january 3',\n",
       "  'january 4',\n",
       "  'january 5',\n",
       "  'january 6',\n",
       "  'january 7',\n",
       "  'january 8',\n",
       "  'january 9',\n",
       "  'january 10'],\n",
       " 'temperature': [23, 21, 24, 29, 17, 19, 12, 30, 23, 26]}"
      ]
     },
     "execution_count": 3,
     "metadata": {},
     "output_type": "execute_result"
    }
   ],
   "source": [
    "df"
   ]
  },
  {
   "cell_type": "code",
   "execution_count": 4,
   "id": "de9df6a9",
   "metadata": {},
   "outputs": [
    {
     "data": {
      "text/html": [
       "<div>\n",
       "<style scoped>\n",
       "    .dataframe tbody tr th:only-of-type {\n",
       "        vertical-align: middle;\n",
       "    }\n",
       "\n",
       "    .dataframe tbody tr th {\n",
       "        vertical-align: top;\n",
       "    }\n",
       "\n",
       "    .dataframe thead th {\n",
       "        text-align: right;\n",
       "    }\n",
       "</style>\n",
       "<table border=\"1\" class=\"dataframe\">\n",
       "  <thead>\n",
       "    <tr style=\"text-align: right;\">\n",
       "      <th></th>\n",
       "      <th>date</th>\n",
       "      <th>temperature</th>\n",
       "    </tr>\n",
       "  </thead>\n",
       "  <tbody>\n",
       "    <tr>\n",
       "      <th>0</th>\n",
       "      <td>january 1</td>\n",
       "      <td>23</td>\n",
       "    </tr>\n",
       "    <tr>\n",
       "      <th>1</th>\n",
       "      <td>january 2</td>\n",
       "      <td>21</td>\n",
       "    </tr>\n",
       "    <tr>\n",
       "      <th>2</th>\n",
       "      <td>january 3</td>\n",
       "      <td>24</td>\n",
       "    </tr>\n",
       "    <tr>\n",
       "      <th>3</th>\n",
       "      <td>january 4</td>\n",
       "      <td>29</td>\n",
       "    </tr>\n",
       "    <tr>\n",
       "      <th>4</th>\n",
       "      <td>january 5</td>\n",
       "      <td>17</td>\n",
       "    </tr>\n",
       "    <tr>\n",
       "      <th>5</th>\n",
       "      <td>january 6</td>\n",
       "      <td>19</td>\n",
       "    </tr>\n",
       "    <tr>\n",
       "      <th>6</th>\n",
       "      <td>january 7</td>\n",
       "      <td>12</td>\n",
       "    </tr>\n",
       "    <tr>\n",
       "      <th>7</th>\n",
       "      <td>january 8</td>\n",
       "      <td>30</td>\n",
       "    </tr>\n",
       "    <tr>\n",
       "      <th>8</th>\n",
       "      <td>january 9</td>\n",
       "      <td>23</td>\n",
       "    </tr>\n",
       "    <tr>\n",
       "      <th>9</th>\n",
       "      <td>january 10</td>\n",
       "      <td>26</td>\n",
       "    </tr>\n",
       "  </tbody>\n",
       "</table>\n",
       "</div>"
      ],
      "text/plain": [
       "         date  temperature\n",
       "0   january 1           23\n",
       "1   january 2           21\n",
       "2   january 3           24\n",
       "3   january 4           29\n",
       "4   january 5           17\n",
       "5   january 6           19\n",
       "6   january 7           12\n",
       "7   january 8           30\n",
       "8   january 9           23\n",
       "9  january 10           26"
      ]
     },
     "metadata": {},
     "output_type": "display_data"
    }
   ],
   "source": [
    "weather=pd.DataFrame(df)\n",
    "display(weather)"
   ]
  },
  {
   "cell_type": "code",
   "execution_count": 5,
   "id": "5c53b47f",
   "metadata": {},
   "outputs": [
    {
     "name": "stdout",
     "output_type": "stream",
     "text": [
      "invalid temperature.Ignore the row\n",
      "invalid temperature.Ignore the row\n"
     ]
    }
   ],
   "source": [
    "arr=[]\n",
    "\n",
    "for line in weather:\n",
    "    token = line.split(',')\n",
    "    try:\n",
    "        temperature=int(token[1])\n",
    "        arr.append(temperture)\n",
    "    except:\n",
    "        print(\"invalid temperature.Ignore the row\")"
   ]
  },
  {
   "cell_type": "code",
   "execution_count": 6,
   "id": "f1458014",
   "metadata": {},
   "outputs": [
    {
     "data": {
      "text/plain": [
       "[]"
      ]
     },
     "execution_count": 6,
     "metadata": {},
     "output_type": "execute_result"
    }
   ],
   "source": [
    "arr"
   ]
  },
  {
   "cell_type": "code",
   "execution_count": 7,
   "id": "ebe07974",
   "metadata": {},
   "outputs": [
    {
     "name": "stdout",
     "output_type": "stream",
     "text": [
      "   temperature\n",
      "0           23\n",
      "1           21\n",
      "2           24\n",
      "3           29\n",
      "4           17\n",
      "5           19\n",
      "6           12\n",
      "7           30\n",
      "8           23\n",
      "9           26\n"
     ]
    }
   ],
   "source": [
    "print(weather.iloc[:10,1:2])"
   ]
  },
  {
   "cell_type": "code",
   "execution_count": 9,
   "id": "fc25eea0",
   "metadata": {},
   "outputs": [
    {
     "data": {
      "text/plain": [
       "10"
      ]
     },
     "execution_count": 9,
     "metadata": {},
     "output_type": "execute_result"
    }
   ],
   "source": [
    "len(weather.iloc[:10,1:2])"
   ]
  },
  {
   "cell_type": "code",
   "execution_count": 10,
   "id": "01d4fdca",
   "metadata": {},
   "outputs": [
    {
     "data": {
      "text/plain": [
       "224"
      ]
     },
     "execution_count": 10,
     "metadata": {},
     "output_type": "execute_result"
    }
   ],
   "source": [
    "sum(weather.temperature)"
   ]
  },
  {
   "cell_type": "markdown",
   "id": "64b63e65",
   "metadata": {},
   "source": [
    "####  new york city weather for first few days in the month of January. Write a program that can answer following,\n",
    "##### What was the average temperature in first week of Jan\n",
    "##### What was the maximum temperature in first 10 days of Jan"
   ]
  },
  {
   "cell_type": "code",
   "execution_count": 12,
   "id": "248175e3",
   "metadata": {},
   "outputs": [
    {
     "name": "stdout",
     "output_type": "stream",
     "text": [
      "22.4\n"
     ]
    }
   ],
   "source": [
    "avg=(sum(weather.temperature)/len(weather.iloc[:10,1:2]))\n",
    "print(avg)"
   ]
  },
  {
   "cell_type": "code",
   "execution_count": 14,
   "id": "eba05c58",
   "metadata": {},
   "outputs": [
    {
     "data": {
      "text/plain": [
       "30"
      ]
     },
     "execution_count": 14,
     "metadata": {},
     "output_type": "execute_result"
    }
   ],
   "source": [
    "max(weather.temperature)"
   ]
  },
  {
   "cell_type": "markdown",
   "id": "dd3d3340",
   "metadata": {},
   "source": [
    "#### new york city weather for first few days in the month of January. Write a program that can answer following,\n",
    "##### What was the temperature on Jan 9?\n",
    "##### What was the temperature on Jan 4?"
   ]
  },
  {
   "cell_type": "code",
   "execution_count": 23,
   "id": "ea3eb132",
   "metadata": {},
   "outputs": [
    {
     "data": {
      "text/html": [
       "<div>\n",
       "<style scoped>\n",
       "    .dataframe tbody tr th:only-of-type {\n",
       "        vertical-align: middle;\n",
       "    }\n",
       "\n",
       "    .dataframe tbody tr th {\n",
       "        vertical-align: top;\n",
       "    }\n",
       "\n",
       "    .dataframe thead th {\n",
       "        text-align: right;\n",
       "    }\n",
       "</style>\n",
       "<table border=\"1\" class=\"dataframe\">\n",
       "  <thead>\n",
       "    <tr style=\"text-align: right;\">\n",
       "      <th></th>\n",
       "      <th>date</th>\n",
       "      <th>temperature</th>\n",
       "    </tr>\n",
       "  </thead>\n",
       "  <tbody>\n",
       "    <tr>\n",
       "      <th>0</th>\n",
       "      <td>january 1</td>\n",
       "      <td>23</td>\n",
       "    </tr>\n",
       "    <tr>\n",
       "      <th>1</th>\n",
       "      <td>january 2</td>\n",
       "      <td>21</td>\n",
       "    </tr>\n",
       "    <tr>\n",
       "      <th>2</th>\n",
       "      <td>january 3</td>\n",
       "      <td>24</td>\n",
       "    </tr>\n",
       "    <tr>\n",
       "      <th>3</th>\n",
       "      <td>january 4</td>\n",
       "      <td>29</td>\n",
       "    </tr>\n",
       "    <tr>\n",
       "      <th>4</th>\n",
       "      <td>january 5</td>\n",
       "      <td>17</td>\n",
       "    </tr>\n",
       "    <tr>\n",
       "      <th>5</th>\n",
       "      <td>january 6</td>\n",
       "      <td>19</td>\n",
       "    </tr>\n",
       "    <tr>\n",
       "      <th>6</th>\n",
       "      <td>january 7</td>\n",
       "      <td>12</td>\n",
       "    </tr>\n",
       "    <tr>\n",
       "      <th>7</th>\n",
       "      <td>january 8</td>\n",
       "      <td>30</td>\n",
       "    </tr>\n",
       "    <tr>\n",
       "      <th>8</th>\n",
       "      <td>january 9</td>\n",
       "      <td>23</td>\n",
       "    </tr>\n",
       "    <tr>\n",
       "      <th>9</th>\n",
       "      <td>january 10</td>\n",
       "      <td>26</td>\n",
       "    </tr>\n",
       "  </tbody>\n",
       "</table>\n",
       "</div>"
      ],
      "text/plain": [
       "         date  temperature\n",
       "0   january 1           23\n",
       "1   january 2           21\n",
       "2   january 3           24\n",
       "3   january 4           29\n",
       "4   january 5           17\n",
       "5   january 6           19\n",
       "6   january 7           12\n",
       "7   january 8           30\n",
       "8   january 9           23\n",
       "9  january 10           26"
      ]
     },
     "execution_count": 23,
     "metadata": {},
     "output_type": "execute_result"
    }
   ],
   "source": [
    "weather"
   ]
  },
  {
   "cell_type": "code",
   "execution_count": 34,
   "id": "ee22f2ba",
   "metadata": {},
   "outputs": [
    {
     "name": "stdout",
     "output_type": "stream",
     "text": [
      "        date  temperature\n",
      "8  january 9           23\n"
     ]
    }
   ],
   "source": [
    "print(weather.iloc[8:9])"
   ]
  },
  {
   "cell_type": "code",
   "execution_count": 35,
   "id": "9b91e7fb",
   "metadata": {},
   "outputs": [
    {
     "name": "stdout",
     "output_type": "stream",
     "text": [
      "        date  temperature\n",
      "3  january 4           29\n"
     ]
    }
   ],
   "source": [
    "print(weather.iloc[3:4])"
   ]
  },
  {
   "cell_type": "markdown",
   "id": "f25550c0",
   "metadata": {},
   "source": [
    "#### Contains famous poem \"Road not taken\" by poet Robert Frost. You have to read this file in python and print every word and its count as show below. Think about the best data structure that you can use to solve this problem and figure out why you selected that specific data structure."
   ]
  },
  {
   "cell_type": "code",
   "execution_count": 38,
   "id": "0ff466b4",
   "metadata": {},
   "outputs": [
    {
     "name": "stdout",
     "output_type": "stream",
     "text": [
      "Two roads diverged in a yellow wood,\n",
      "\n",
      "And sorry I could not travel both\n",
      "\n",
      "And be one traveler, long I stood\n",
      "\n",
      "And looked down one as far as I could\n",
      "\n",
      "To where it bent in the undergrowth;\n",
      "\n",
      "\n",
      "\n",
      "Then took the other, as just as fair,\n",
      "\n",
      "And having perhaps the better claim,\n",
      "\n",
      "Because it was grassy and wanted wear;\n",
      "\n",
      "Though as for that the passing there\n",
      "\n",
      "Had worn them really about the same,\n",
      "\n",
      "\n",
      "\n",
      "And both that morning equally lay\n",
      "\n",
      "In leaves no step had trodden black.\n",
      "\n",
      "Oh, I kept the first for another day!\n",
      "\n",
      "Yet knowing how way leads on to way,\n",
      "\n",
      "I doubted if I should ever come back.\n",
      "\n",
      "\n",
      "\n",
      "I shall be telling this with a sigh\n",
      "\n",
      "Somewhere ages and ages hence:\n",
      "\n",
      "Two roads diverged in a wood, and Iâ€”\n",
      "\n",
      "I took the one less traveled by,\n",
      "\n",
      "And that has made all the difference.\n"
     ]
    }
   ],
   "source": [
    "with open(\"poem.txt\",'r') as f:\n",
    "    for line in f:\n",
    "        print(line)"
   ]
  },
  {
   "cell_type": "code",
   "execution_count": 43,
   "id": "804504d5",
   "metadata": {},
   "outputs": [],
   "source": [
    "word_count = {}\n",
    "with open(\"poem.txt\",\"r\") as f:\n",
    "    for line in f:\n",
    "        tokens = line.split(' ')\n",
    "        for token in tokens:\n",
    "            token=token.replace('\\n','')\n",
    "            if token in word_count:\n",
    "                word_count[token]+=1\n",
    "            else:\n",
    "                word_count[token]=1"
   ]
  },
  {
   "cell_type": "code",
   "execution_count": 44,
   "id": "4affae19",
   "metadata": {},
   "outputs": [
    {
     "name": "stdout",
     "output_type": "stream",
     "text": [
      "{'Two': 2, 'roads': 2, 'diverged': 2, 'in': 3, 'a': 3, 'yellow': 1, 'wood,': 2, 'And': 6, 'sorry': 1, 'I': 8, 'could': 2, 'not': 1, 'travel': 1, 'both': 2, 'be': 2, 'one': 3, 'traveler,': 1, 'long': 1, 'stood': 1, 'looked': 1, 'down': 1, 'as': 5, 'far': 1, 'To': 1, 'where': 1, 'it': 2, 'bent': 1, 'the': 8, 'undergrowth;': 1, '': 3, 'Then': 1, 'took': 2, 'other,': 1, 'just': 1, 'fair,': 1, 'having': 1, 'perhaps': 1, 'better': 1, 'claim,': 1, 'Because': 1, 'was': 1, 'grassy': 1, 'and': 3, 'wanted': 1, 'wear;': 1, 'Though': 1, 'for': 2, 'that': 3, 'passing': 1, 'there': 1, 'Had': 1, 'worn': 1, 'them': 1, 'really': 1, 'about': 1, 'same,': 1, 'morning': 1, 'equally': 1, 'lay': 1, 'In': 1, 'leaves': 1, 'no': 1, 'step': 1, 'had': 1, 'trodden': 1, 'black.': 1, 'Oh,': 1, 'kept': 1, 'first': 1, 'another': 1, 'day!': 1, 'Yet': 1, 'knowing': 1, 'how': 1, 'way': 1, 'leads': 1, 'on': 1, 'to': 1, 'way,': 1, 'doubted': 1, 'if': 1, 'should': 1, 'ever': 1, 'come': 1, 'back.': 1, 'shall': 1, 'telling': 1, 'this': 1, 'with': 1, 'sigh': 1, 'Somewhere': 1, 'ages': 2, 'hence:': 1, 'Iâ€”': 1, 'less': 1, 'traveled': 1, 'by,': 1, 'has': 1, 'made': 1, 'all': 1, 'difference.': 1}\n"
     ]
    }
   ],
   "source": [
    "print(word_count)"
   ]
  },
  {
   "cell_type": "code",
   "execution_count": null,
   "id": "b1dc0e0e",
   "metadata": {},
   "outputs": [],
   "source": []
  }
 ],
 "metadata": {
  "kernelspec": {
   "display_name": "Python 3 (ipykernel)",
   "language": "python",
   "name": "python3"
  },
  "language_info": {
   "codemirror_mode": {
    "name": "ipython",
    "version": 3
   },
   "file_extension": ".py",
   "mimetype": "text/x-python",
   "name": "python",
   "nbconvert_exporter": "python",
   "pygments_lexer": "ipython3",
   "version": "3.9.7"
  }
 },
 "nbformat": 4,
 "nbformat_minor": 5
}
