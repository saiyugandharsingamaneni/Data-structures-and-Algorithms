{
 "cells": [
  {
   "cell_type": "markdown",
   "id": "2327f6d4",
   "metadata": {},
   "source": [
    "#### hash_table collision handling"
   ]
  },
  {
   "cell_type": "code",
   "execution_count": 20,
   "id": "1253493f",
   "metadata": {},
   "outputs": [],
   "source": [
    "class hash_table:\n",
    "    \n",
    "    def __init__(self):\n",
    "        self.MAX=200\n",
    "        self.arr=[[] for i in range(self.MAX)]\n",
    "        \n",
    "    def get_hash(self,key):\n",
    "        h=0\n",
    "        for char in key:\n",
    "            h += ord(char)\n",
    "        return h % self.MAX\n",
    "    \n",
    "    def __setitem__(self,key,value):\n",
    "        h=self.get_hash(key)\n",
    "        self.arr[h]=value\n",
    "    \n",
    "    def __getitem__(self,key):\n",
    "        h=self.get_hash(key)\n",
    "        return self.arr[h]"
   ]
  },
  {
   "cell_type": "code",
   "execution_count": 15,
   "id": "fe2d3e09",
   "metadata": {},
   "outputs": [],
   "source": [
    "t=hash_table()\n",
    "t['march 6']=130\n",
    "t['march 1']=132\n",
    "t['march 9']=154\n",
    "t['feb 6']=120\n",
    "t['march 15']=140"
   ]
  },
  {
   "cell_type": "code",
   "execution_count": 16,
   "id": "b50aa318",
   "metadata": {},
   "outputs": [
    {
     "data": {
      "text/plain": [
       "9"
      ]
     },
     "execution_count": 16,
     "metadata": {},
     "output_type": "execute_result"
    }
   ],
   "source": [
    "t.get_hash('march 6')"
   ]
  },
  {
   "cell_type": "code",
   "execution_count": 17,
   "id": "d3900e98",
   "metadata": {},
   "outputs": [
    {
     "data": {
      "text/plain": [
       "12"
      ]
     },
     "execution_count": 17,
     "metadata": {},
     "output_type": "execute_result"
    }
   ],
   "source": [
    "t.get_hash('march 9')"
   ]
  },
  {
   "cell_type": "code",
   "execution_count": 18,
   "id": "96dde84a",
   "metadata": {},
   "outputs": [
    {
     "data": {
      "text/plain": [
       "4"
      ]
     },
     "execution_count": 18,
     "metadata": {},
     "output_type": "execute_result"
    }
   ],
   "source": [
    "t.get_hash('march 1')"
   ]
  },
  {
   "cell_type": "code",
   "execution_count": 19,
   "id": "35f3e6d3",
   "metadata": {},
   "outputs": [
    {
     "data": {
      "text/plain": [
       "57"
      ]
     },
     "execution_count": 19,
     "metadata": {},
     "output_type": "execute_result"
    }
   ],
   "source": [
    "t.get_hash('march 15')"
   ]
  },
  {
   "cell_type": "code",
   "execution_count": 35,
   "id": "e104175a",
   "metadata": {},
   "outputs": [],
   "source": [
    "class hash_table:\n",
    "    \n",
    "    def __init__(self):\n",
    "        self.MAX=20\n",
    "        self.arr=[[] for i in range(self.MAX)]\n",
    "        \n",
    "    def get_hash(self,key):\n",
    "        h=0\n",
    "        for char in key:\n",
    "            h += ord(char)\n",
    "        return h % self.MAX\n",
    "    \n",
    "    def __getitem__(self,key):\n",
    "        h=self.get_hash(index)\n",
    "        return self.arr[h]\n",
    "    \n",
    "    def __setitem__(self,key,value):\n",
    "        h=self.get_hash(key)\n",
    "        found = False\n",
    "        for idx,element in enumerate(self.arr[h]):\n",
    "            if len(element)==2 and element[0]==key:\n",
    "                self.arr[h][idx]=(key,value)\n",
    "                found=True\n",
    "                break\n",
    "        if not found:\n",
    "            self.arr[h].append((key,value))"
   ]
  },
  {
   "cell_type": "code",
   "execution_count": 36,
   "id": "ebc5aa3b",
   "metadata": {},
   "outputs": [],
   "source": [
    "t=hash_table()"
   ]
  },
  {
   "cell_type": "code",
   "execution_count": 37,
   "id": "185d8f5d",
   "metadata": {},
   "outputs": [],
   "source": [
    "t['march 6']=130\n",
    "t['march 1']=132\n",
    "t['march 9']=154\n",
    "t['feb 6']=120\n",
    "t['march 15']=140"
   ]
  },
  {
   "cell_type": "code",
   "execution_count": 38,
   "id": "1a905313",
   "metadata": {},
   "outputs": [
    {
     "data": {
      "text/plain": [
       "[[],\n",
       " [],\n",
       " [],\n",
       " [],\n",
       " [('march 1', 132)],\n",
       " [],\n",
       " [],\n",
       " [('feb 6', 120)],\n",
       " [],\n",
       " [('march 6', 130)],\n",
       " [],\n",
       " [],\n",
       " [('march 9', 154)],\n",
       " [],\n",
       " [],\n",
       " [],\n",
       " [],\n",
       " [('march 15', 140)],\n",
       " [],\n",
       " []]"
      ]
     },
     "execution_count": 38,
     "metadata": {},
     "output_type": "execute_result"
    }
   ],
   "source": [
    "t.arr"
   ]
  },
  {
   "cell_type": "markdown",
   "id": "26fd8d83",
   "metadata": {},
   "source": [
    "#### getting and setting elements"
   ]
  },
  {
   "cell_type": "code",
   "execution_count": 39,
   "id": "94604a24",
   "metadata": {},
   "outputs": [],
   "source": [
    "class hash_table:\n",
    "    \n",
    "    def __init__(self):\n",
    "        self.MAX=20\n",
    "        self.arr=[[] for i in range(self.MAX)]\n",
    "        \n",
    "    def get_hash(self,key):\n",
    "        h=0\n",
    "        for char in key:\n",
    "            h += ord(char)\n",
    "        return h % self.MAX\n",
    "    \n",
    "    def __getitem__(self,key):\n",
    "        h=self.get_hash(key)\n",
    "        for element in self.arr[h]:\n",
    "            if element[0]==key:\n",
    "                return element[1]\n",
    "                \n",
    "    \n",
    "    def __setitem__(self,key,value):\n",
    "        h=self.get_hash(key)\n",
    "        found = False\n",
    "        for idx,element in enumerate(self.arr[h]):\n",
    "            if len(element)==2 and element[0]==key:\n",
    "                self.arr[h][idx]=(key,value)\n",
    "                found=True\n",
    "                break\n",
    "        if not found:\n",
    "            self.arr[h].append((key,value))"
   ]
  },
  {
   "cell_type": "code",
   "execution_count": 40,
   "id": "ead0584c",
   "metadata": {},
   "outputs": [],
   "source": [
    "t=hash_table()"
   ]
  },
  {
   "cell_type": "code",
   "execution_count": 41,
   "id": "0f1fbfd0",
   "metadata": {},
   "outputs": [],
   "source": [
    "t['march 6']=130\n",
    "t['march 1']=132\n",
    "t['march 9']=154\n",
    "t['feb 6']=120\n",
    "t['march 15']=140"
   ]
  },
  {
   "cell_type": "code",
   "execution_count": 42,
   "id": "bb4c2c82",
   "metadata": {},
   "outputs": [
    {
     "data": {
      "text/plain": [
       "154"
      ]
     },
     "execution_count": 42,
     "metadata": {},
     "output_type": "execute_result"
    }
   ],
   "source": [
    "t['march 9']"
   ]
  },
  {
   "cell_type": "markdown",
   "id": "79e04312",
   "metadata": {},
   "source": [
    "#### deleting element "
   ]
  },
  {
   "cell_type": "code",
   "execution_count": 43,
   "id": "3768e233",
   "metadata": {},
   "outputs": [],
   "source": [
    "class hash_table:\n",
    "    \n",
    "    def __init__(self):\n",
    "        self.MAX=20\n",
    "        self.arr=[[] for i in range(self.MAX)]\n",
    "        \n",
    "    def get_hash(self,key):\n",
    "        h=0\n",
    "        for char in key:\n",
    "            h += ord(char)\n",
    "        return h % self.MAX\n",
    "    \n",
    "    def __getitem__(self,key):\n",
    "        h=self.get_hash(key)\n",
    "        for element in self.arr[h]:\n",
    "            if element[0]==key:\n",
    "                return element[1]\n",
    "                \n",
    "    \n",
    "    def __setitem__(self,key,value):\n",
    "        h=self.get_hash(key)\n",
    "        found = False\n",
    "        for idx,element in enumerate(self.arr[h]):\n",
    "            if len(element)==2 and element[0]==key:\n",
    "                self.arr[h][idx]=(key,value)\n",
    "                found=True\n",
    "                break\n",
    "        if not found:\n",
    "            self.arr[h].append((key,value))\n",
    "            \n",
    "    def __delitem__(self,key):\n",
    "        h=self.get_hash(key)\n",
    "        for index,element in enumerate(self.arr[h]):\n",
    "            if element[0]==key:\n",
    "                del self.arr[h][index]"
   ]
  },
  {
   "cell_type": "code",
   "execution_count": 44,
   "id": "0f6b10b0",
   "metadata": {},
   "outputs": [],
   "source": [
    "t=hash_table()"
   ]
  },
  {
   "cell_type": "code",
   "execution_count": 45,
   "id": "298cad81",
   "metadata": {},
   "outputs": [],
   "source": [
    "t['march 6']=130\n",
    "t['march 1']=132\n",
    "t['march 9']=154\n",
    "t['feb 6']=120\n",
    "t['march 15']=140"
   ]
  },
  {
   "cell_type": "code",
   "execution_count": 46,
   "id": "329bb398",
   "metadata": {},
   "outputs": [],
   "source": [
    "del t['march 6']"
   ]
  },
  {
   "cell_type": "code",
   "execution_count": 47,
   "id": "4c23e46d",
   "metadata": {},
   "outputs": [
    {
     "data": {
      "text/plain": [
       "[[],\n",
       " [],\n",
       " [],\n",
       " [],\n",
       " [('march 1', 132)],\n",
       " [],\n",
       " [],\n",
       " [('feb 6', 120)],\n",
       " [],\n",
       " [],\n",
       " [],\n",
       " [],\n",
       " [('march 9', 154)],\n",
       " [],\n",
       " [],\n",
       " [],\n",
       " [],\n",
       " [('march 15', 140)],\n",
       " [],\n",
       " []]"
      ]
     },
     "execution_count": 47,
     "metadata": {},
     "output_type": "execute_result"
    }
   ],
   "source": [
    "t.arr"
   ]
  },
  {
   "cell_type": "code",
   "execution_count": 48,
   "id": "3fac8082",
   "metadata": {},
   "outputs": [],
   "source": [
    "del t['march 9']"
   ]
  },
  {
   "cell_type": "code",
   "execution_count": 49,
   "id": "dcbb1384",
   "metadata": {},
   "outputs": [
    {
     "data": {
      "text/plain": [
       "[[],\n",
       " [],\n",
       " [],\n",
       " [],\n",
       " [('march 1', 132)],\n",
       " [],\n",
       " [],\n",
       " [('feb 6', 120)],\n",
       " [],\n",
       " [],\n",
       " [],\n",
       " [],\n",
       " [],\n",
       " [],\n",
       " [],\n",
       " [],\n",
       " [],\n",
       " [('march 15', 140)],\n",
       " [],\n",
       " []]"
      ]
     },
     "execution_count": 49,
     "metadata": {},
     "output_type": "execute_result"
    }
   ],
   "source": [
    "t.arr"
   ]
  },
  {
   "cell_type": "code",
   "execution_count": null,
   "id": "f490d7c4",
   "metadata": {},
   "outputs": [],
   "source": []
  }
 ],
 "metadata": {
  "kernelspec": {
   "display_name": "Python 3 (ipykernel)",
   "language": "python",
   "name": "python3"
  },
  "language_info": {
   "codemirror_mode": {
    "name": "ipython",
    "version": 3
   },
   "file_extension": ".py",
   "mimetype": "text/x-python",
   "name": "python",
   "nbconvert_exporter": "python",
   "pygments_lexer": "ipython3",
   "version": "3.9.7"
  }
 },
 "nbformat": 4,
 "nbformat_minor": 5
}
